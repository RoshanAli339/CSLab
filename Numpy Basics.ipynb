{
 "cells": [
  {
   "cell_type": "markdown",
   "id": "fec2ba5f",
   "metadata": {},
   "source": [
    "## Numpy Arrays"
   ]
  },
  {
   "cell_type": "code",
   "execution_count": 1,
   "id": "043bab9a",
   "metadata": {},
   "outputs": [],
   "source": [
    "# importing the numpy library\n",
    "import numpy as np"
   ]
  },
  {
   "cell_type": "code",
   "execution_count": 4,
   "id": "a66dadd6",
   "metadata": {},
   "outputs": [
    {
     "name": "stdout",
     "output_type": "stream",
     "text": [
      "Array1: [2 3 4 5]\n",
      "Array2:\n",
      "[[ 1  2  3]\n",
      " [ 9  6  5]\n",
      " [12  1  4]]\n"
     ]
    }
   ],
   "source": [
    "# converting a 1D list into a numpy array\n",
    "\n",
    "a = np.array([2,3,4,5])\n",
    "print(\"Array1:\",a)\n",
    "    \n",
    "# converting a 2D list into a numpy array\n",
    "a = np.array([[1,2,3],[9,6,5], [12,1,4]])\n",
    "print(\"Array2:\")\n",
    "print(a)"
   ]
  },
  {
   "cell_type": "code",
   "execution_count": 5,
   "id": "97cc495a",
   "metadata": {},
   "outputs": [
    {
     "name": "stdout",
     "output_type": "stream",
     "text": [
      "[ 0  1  2  3  4  5  6  7  8  9 10 11 12 13]\n"
     ]
    }
   ],
   "source": [
    "# creating a numpy array from 0, upto a given number\n",
    "\n",
    "a = np.arange(14)\n",
    "print(a)"
   ]
  },
  {
   "cell_type": "code",
   "execution_count": 10,
   "id": "433b1322",
   "metadata": {},
   "outputs": [
    {
     "name": "stdout",
     "output_type": "stream",
     "text": [
      "Array of zeroes:\n",
      "[[0 0 0]\n",
      " [0 0 0]]\n",
      "Array of ones: \n",
      "[[1 1 1 1]\n",
      " [1 1 1 1]\n",
      " [1 1 1 1]]\n",
      "Array of specified number: \n",
      "[[7 7]\n",
      " [7 7]\n",
      " [7 7]]\n",
      "Identity matrix: \n",
      "[[1 0 0]\n",
      " [0 1 0]\n",
      " [0 0 1]]\n"
     ]
    }
   ],
   "source": [
    "# creating a NULL matrix, or an array of zeroes of specified dimensions\n",
    "\n",
    "a = np.zeros([2,3],dtype=int)\n",
    "print(\"Array of zeroes:\")\n",
    "print(a)\n",
    "\n",
    "# creating an array of ones of specified dimensions\n",
    "\n",
    "a = np.ones([3,4], dtype=int)\n",
    "print(\"Array of ones: \")\n",
    "print(a)\n",
    "\n",
    "# creating an array of same number of specified dimensions\n",
    "\n",
    "a = np.full([3,2], 7, dtype=int)\n",
    "print(\"Array of specified number: \")\n",
    "print(a)\n",
    "\n",
    "# creating an identity matrix of specified dimensions\n",
    "\n",
    "a = np.eye(3,3, dtype=int)\n",
    "print(\"Identity matrix: \")\n",
    "print(a)"
   ]
  },
  {
   "cell_type": "code",
   "execution_count": 12,
   "id": "66c7892c",
   "metadata": {},
   "outputs": [
    {
     "name": "stdout",
     "output_type": "stream",
     "text": [
      "Linspace array:\n",
      "[ 1.   4.8  8.6 12.4 16.2 20. ]\n"
     ]
    }
   ],
   "source": [
    "# creating an array of elements which are equally distributed within a range for a specific number of elements\n",
    "\n",
    "a = np.linspace(1, 20, 6)\n",
    "print(\"Linspace array:\")\n",
    "print(a)"
   ]
  },
  {
   "cell_type": "code",
   "execution_count": 27,
   "id": "a2f11cc5",
   "metadata": {},
   "outputs": [
    {
     "name": "stdout",
     "output_type": "stream",
     "text": [
      "3\n",
      "[[ 1  2]\n",
      " [ 9  6]\n",
      " [12  1]\n",
      " [ 2  6]]\n",
      "[[2 3]\n",
      " [6 5]]\n"
     ]
    }
   ],
   "source": [
    "# accessing elements in a numpy array\n",
    "\n",
    "a = np.array([[1,2,3],[9,6,5], [12,1,4], [2,6,8]])\n",
    "print(a[0, 2])\n",
    "print(a[0:, :2])\n",
    "print(a[:2, 1:])"
   ]
  },
  {
   "cell_type": "code",
   "execution_count": 30,
   "id": "17392373",
   "metadata": {},
   "outputs": [
    {
     "name": "stdout",
     "output_type": "stream",
     "text": [
      "No.of dimensions of a: 2\n",
      "Dimensions of a: (3, 4)\n",
      "Data type of elements of a: int64\n",
      "Array with floating point numbers:\n",
      "[[ 1.  2.  3.  9.]\n",
      " [ 6.  5. 12.  1.]\n",
      " [ 4.  2.  6.  8.]]\n",
      "Reshaped array: \n",
      "[[ 1  2  3]\n",
      " [ 9  6  5]\n",
      " [12  1  4]\n",
      " [ 2  6  8]]\n"
     ]
    }
   ],
   "source": [
    "# printing the number of dimensions of a numpy array\n",
    "\n",
    "print(\"No.of dimensions of a:\", a.ndim)\n",
    "\n",
    "# printing the dimensions of a numpy array\n",
    "\n",
    "print(\"Dimensions of a:\", a.shape)\n",
    "\n",
    "# print the data type of the elements of the array\n",
    "\n",
    "print(\"Data type of elements of a:\", a.dtype)\n",
    "\n",
    "# change the data type of the elements of the array\n",
    "\n",
    "print(\"Array with floating point numbers:\")\n",
    "print(a.astype(np.float64))\n",
    "\n",
    "# reshaping the array to a specified dimensions\n",
    "\n",
    "print(\"Reshaped array: \")\n",
    "print(a.reshape(4,3))"
   ]
  },
  {
   "cell_type": "code",
   "execution_count": 31,
   "id": "38642402",
   "metadata": {},
   "outputs": [
    {
     "name": "stdout",
     "output_type": "stream",
     "text": [
      "Maximum element is: 54\n",
      "Minimum element is: 1\n",
      "Sum of array elements is: 117\n",
      "Mean of array elements: 16.714285714285715\n",
      "Standard deviation of array elements: 20.946968998021685\n",
      "Variance of array elements: 438.7755102040816\n"
     ]
    }
   ],
   "source": [
    "# Finding minimum and maximum elements in an array\n",
    "\n",
    "a = np.array([3,45,6,2,1,54,6])\n",
    "print(\"Maximum element is:\", a.max())\n",
    "\n",
    "print(\"Minimum element is:\", a.min())\n",
    "\n",
    "# Finding sum of the elements of the array\n",
    "\n",
    "print(\"Sum of array elements is:\", a.sum())\n",
    "\n",
    "# Finding mean, standard deviation and variance of an array\n",
    "\n",
    "print(\"Mean of array elements:\", a.mean())\n",
    "\n",
    "print(\"Standard deviation of array elements:\", a.std())\n",
    "\n",
    "print(\"Variance of array elements:\", a.var())"
   ]
  }
 ],
 "metadata": {
  "kernelspec": {
   "display_name": "Python 3 (ipykernel)",
   "language": "python",
   "name": "python3"
  },
  "language_info": {
   "codemirror_mode": {
    "name": "ipython",
    "version": 3
   },
   "file_extension": ".py",
   "mimetype": "text/x-python",
   "name": "python",
   "nbconvert_exporter": "python",
   "pygments_lexer": "ipython3",
   "version": "3.10.10"
  }
 },
 "nbformat": 4,
 "nbformat_minor": 5
}
